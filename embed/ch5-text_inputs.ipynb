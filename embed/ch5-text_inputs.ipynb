{
 "cells": [
  {
   "cell_type": "code",
   "execution_count": 15,
   "metadata": {},
   "outputs": [
    {
     "name": "stdout",
     "output_type": "stream",
     "text": [
      "torch.Size([1, 77]) \n",
      "\n",
      "tensor([[49406,  3086, 24970,   518,  2102,   267,  5610,   267,  1158,   267,\n",
      "          1486,  2631,   267,   275,   330,   267,  6353,   794, 49407,     0,\n",
      "             0,     0,     0,     0,     0,     0,     0,     0,     0,     0,\n",
      "             0,     0,     0,     0,     0,     0,     0,     0,     0,     0,\n",
      "             0,     0,     0,     0,     0,     0,     0,     0,     0,     0,\n",
      "             0,     0,     0,     0,     0,     0,     0,     0,     0,     0,\n",
      "             0,     0,     0,     0,     0,     0,     0,     0,     0,     0,\n",
      "             0,     0,     0,     0,     0,     0,     0]])\n"
     ]
    }
   ],
   "source": [
    "prompt = \"painting depicting the sea, sunrise, ship, artstation, 4k, concept art\"\n",
    "\n",
    "text_inputs = pipe.tokenizer(prompt, padding=\"max_length\", max_length=max_length, truncation=True, return_tensors=\"pt\")\n",
    "\n",
    "print(text_inputs.input_ids.shape, '\\n')\n",
    "print(text_inputs.input_ids)"
   ]
  }
 ],
 "metadata": {
  "kernelspec": {
   "display_name": "Python 3 (ipykernel)",
   "language": "python",
   "name": "python3"
  },
  "language_info": {
   "codemirror_mode": {
    "name": "ipython",
    "version": 3
   },
   "file_extension": ".py",
   "mimetype": "text/x-python",
   "name": "python",
   "nbconvert_exporter": "python",
   "pygments_lexer": "ipython3",
   "version": "3.9.16"
  }
 },
 "nbformat": 4,
 "nbformat_minor": 2
}
