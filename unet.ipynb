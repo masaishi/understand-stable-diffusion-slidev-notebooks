{
 "cells": [
  {
   "cell_type": "code",
   "execution_count": 1,
   "metadata": {},
   "outputs": [],
   "source": [
    "%%capture\n",
    "\n",
    "!pip install transformers diffusers accelerate -U\n",
    "!pip install parediffusers\n",
    "\n",
    "!pip install torchview graphviz"
   ]
  },
  {
   "cell_type": "code",
   "execution_count": 2,
   "metadata": {},
   "outputs": [
    {
     "name": "stderr",
     "output_type": "stream",
     "text": [
      "The cache for model files in Transformers v4.22.0 has been updated. Migrating your old cache. This is a one-time only operation. You can interrupt this and resume the migration later on by calling `transformers.utils.move_cache()`.\n"
     ]
    },
    {
     "data": {
      "application/vnd.jupyter.widget-view+json": {
       "model_id": "a9b12491bae14f78b9032732fd4cfb16",
       "version_major": 2,
       "version_minor": 0
      },
      "text/plain": [
       "0it [00:00, ?it/s]"
      ]
     },
     "metadata": {},
     "output_type": "display_data"
    }
   ],
   "source": [
    "from PIL import Image\n",
    "from IPython.display import Image as IPythonImage\n",
    "import imageio\n",
    "from tqdm import tqdm\n",
    "import os\n",
    "import matplotlib.pyplot as plt\n",
    "import torch\n",
    "from diffusers.utils.export_utils import export_to_gif\n",
    "from parediffusers import PareDiffusionPipeline\n",
    "\n",
    "# Prepare for saving as .gif\n",
    "def make_gif_with_index(images, file_path, figsize=(1.28, 1.30)):\n",
    "\tfor i, image in enumerate(images):\n",
    "\t\tfig, ax = plt.subplots(figsize=figsize)\n",
    "\t\tax.imshow(image)\n",
    "\t\tax.text(0.5, -0.2, f\"Index: {i}\", transform=ax.transAxes, ha=\"center\")\n",
    "\t\tax.axis('off')\n",
    "\t\tplt.subplots_adjust(bottom=0.2)\n",
    "\t\tplt.savefig(f\"temp_{i}.png\")\n",
    "\t\tplt.close(fig)\n",
    "\n",
    "\t# Read temporary images and append to the list\n",
    "\timages_with_index = []\n",
    "\tfor i in range(len(images)):\n",
    "\t\timages_with_index.append(Image.open(f\"temp_{i}.png\"))\n",
    "\n",
    "\t# Save as .gif\n",
    "\texport_to_gif(images_with_index, file_path, fps=10)\n",
    "\n",
    "\t# Remove temporary image files\n",
    "\tfor i in range(len(images)):\n",
    "\t\tos.remove(f\"temp_{i}.png\")"
   ]
  },
  {
   "cell_type": "code",
   "execution_count": 3,
   "metadata": {},
   "outputs": [
    {
     "name": "stderr",
     "output_type": "stream",
     "text": [
      "/usr/local/lib/python3.9/dist-packages/huggingface_hub/file_download.py:1132: FutureWarning: `resume_download` is deprecated and will be removed in version 1.0.0. Downloads always resume when possible. If you want to force a new download, use `force_download=True`.\n",
      "  warnings.warn(\n"
     ]
    },
    {
     "data": {
      "application/vnd.jupyter.widget-view+json": {
       "model_id": "a0c6f39f373b4258b1ec3fef40804450",
       "version_major": 2,
       "version_minor": 0
      },
      "text/plain": [
       "tokenizer/tokenizer_config.json:   0%|          | 0.00/824 [00:00<?, ?B/s]"
      ]
     },
     "metadata": {},
     "output_type": "display_data"
    },
    {
     "data": {
      "application/vnd.jupyter.widget-view+json": {
       "model_id": "93359489ec374456b628d4ae9b216d35",
       "version_major": 2,
       "version_minor": 0
      },
      "text/plain": [
       "tokenizer/vocab.json:   0%|          | 0.00/1.06M [00:00<?, ?B/s]"
      ]
     },
     "metadata": {},
     "output_type": "display_data"
    },
    {
     "data": {
      "application/vnd.jupyter.widget-view+json": {
       "model_id": "0d974e9af25b44fc8bd5c28191fa7d6a",
       "version_major": 2,
       "version_minor": 0
      },
      "text/plain": [
       "tokenizer/merges.txt:   0%|          | 0.00/525k [00:00<?, ?B/s]"
      ]
     },
     "metadata": {},
     "output_type": "display_data"
    },
    {
     "data": {
      "application/vnd.jupyter.widget-view+json": {
       "model_id": "357f7bb995ab438db0a1297ad2f69c87",
       "version_major": 2,
       "version_minor": 0
      },
      "text/plain": [
       "tokenizer/special_tokens_map.json:   0%|          | 0.00/460 [00:00<?, ?B/s]"
      ]
     },
     "metadata": {},
     "output_type": "display_data"
    },
    {
     "data": {
      "application/vnd.jupyter.widget-view+json": {
       "model_id": "9dd2716dc3d64a76be63eddb3b1fa543",
       "version_major": 2,
       "version_minor": 0
      },
      "text/plain": [
       "text_encoder/config.json:   0%|          | 0.00/633 [00:00<?, ?B/s]"
      ]
     },
     "metadata": {},
     "output_type": "display_data"
    },
    {
     "data": {
      "application/vnd.jupyter.widget-view+json": {
       "model_id": "3afc8290651a4cf79819c1d7f78c8152",
       "version_major": 2,
       "version_minor": 0
      },
      "text/plain": [
       "model.safetensors:   0%|          | 0.00/1.36G [00:00<?, ?B/s]"
      ]
     },
     "metadata": {},
     "output_type": "display_data"
    },
    {
     "data": {
      "application/vnd.jupyter.widget-view+json": {
       "model_id": "85b46acfca40436294068919f6f89875",
       "version_major": 2,
       "version_minor": 0
      },
      "text/plain": [
       "scheduler/scheduler_config.json:   0%|          | 0.00/345 [00:00<?, ?B/s]"
      ]
     },
     "metadata": {},
     "output_type": "display_data"
    },
    {
     "data": {
      "application/vnd.jupyter.widget-view+json": {
       "model_id": "0f75ee142cdc48edaef5912ba9f0294a",
       "version_major": 2,
       "version_minor": 0
      },
      "text/plain": [
       "unet/config.json:   0%|          | 0.00/909 [00:00<?, ?B/s]"
      ]
     },
     "metadata": {},
     "output_type": "display_data"
    },
    {
     "data": {
      "application/vnd.jupyter.widget-view+json": {
       "model_id": "bda161a0c70f4654ba04b13578b4d83a",
       "version_major": 2,
       "version_minor": 0
      },
      "text/plain": [
       "diffusion_pytorch_model.fp16.bin:   0%|          | 0.00/1.73G [00:00<?, ?B/s]"
      ]
     },
     "metadata": {},
     "output_type": "display_data"
    },
    {
     "data": {
      "application/vnd.jupyter.widget-view+json": {
       "model_id": "c38f8f15774b4eafa39374991adb9f90",
       "version_major": 2,
       "version_minor": 0
      },
      "text/plain": [
       "vae/config.json:   0%|          | 0.00/611 [00:00<?, ?B/s]"
      ]
     },
     "metadata": {},
     "output_type": "display_data"
    },
    {
     "data": {
      "application/vnd.jupyter.widget-view+json": {
       "model_id": "505c33b363ca430f82d65d761cd90568",
       "version_major": 2,
       "version_minor": 0
      },
      "text/plain": [
       "diffusion_pytorch_model.fp16.bin:   0%|          | 0.00/167M [00:00<?, ?B/s]"
      ]
     },
     "metadata": {},
     "output_type": "display_data"
    },
    {
     "data": {
      "image/png": "[encoded data removed]",
      "text/plain": [
       "<PIL.Image.Image image mode=RGBA size=64x64>"
      ]
     },
     "metadata": {},
     "output_type": "display_data"
    }
   ],
   "source": [
    "pre_last_latent = None\n",
    "\n",
    "@torch.no_grad()\n",
    "def denoise(self, latents, prompt_embeds, num_inference_steps=50, guidance_scale=7.5):\n",
    "\t\"\"\"\n",
    "\tIteratively denoise the latent space using the diffusion model to produce an image.\n",
    "\t\"\"\"\n",
    "\tglobal pre_last_latent\n",
    "\n",
    "\ttimesteps, num_inference_steps = self.retrieve_timesteps(num_inference_steps)\n",
    "\n",
    "\tfor t in timesteps:\n",
    "\t\tlatent_model_input = torch.cat([latents] * 2)\n",
    "\t\t\n",
    "\t\t# Predict the noise residual for the current timestep\n",
    "\t\tnoise_residual = self.unet(latent_model_input, t, encoder_hidden_states=prompt_embeds)\n",
    "\t\tuncond_residual, text_cond_residual = noise_residual.chunk(2)\n",
    "\t\t\n",
    "\t\tguided_noise_residual = uncond_residual + guidance_scale * (text_cond_residual - uncond_residual)\n",
    "\n",
    "\t\t# Update latents by reversing the diffusion process for the current timestep\n",
    "\t\tlatents = self.scheduler.step(guided_noise_residual, t, latents)[0]\n",
    "\t\t\n",
    "\t\tif t == timesteps[-2]:\n",
    "\t\t\tpre_last_latent = latents\n",
    "\n",
    "\treturn latents\n",
    "\n",
    "PareDiffusionPipeline.denoise = denoise\n",
    "\n",
    "pipe = PareDiffusionPipeline.from_pretrained(\n",
    "\t\"stabilityai/stable-diffusion-2\",\n",
    "\tdevice=torch.device(\"cuda\"),\n",
    "\tdtype=torch.float16,\n",
    ")\n",
    "prompt = \"painting depicting the sea, sunrise, ship, artstation, 4k, concept art\"\n",
    "\n",
    "torch.manual_seed(42)\n",
    "image = pipe(prompt, width=512, height=512, num_inference_steps=100)\n",
    "\n",
    "display(pipe.tensor_to_image(pre_last_latent[0]))"
   ]
  },
  {
   "cell_type": "code",
   "execution_count": 4,
   "metadata": {},
   "outputs": [],
   "source": [
    "import torch\n",
    "from torch import nn\n",
    "from typing import List, Union\n",
    "import json\n",
    "from huggingface_hub import hf_hub_download\n",
    "from parediffusers.utils import DotDict, get_activation\n",
    "from parediffusers.defaults import DEFAULT_UNET_CONFIG\n",
    "from parediffusers.models.embeddings import PareTimestepEmbedding, PareTimesteps\n",
    "from parediffusers.models.unet_2d_get_blocks import pare_get_down_block, pare_get_up_block\n",
    "from parediffusers.models.unet_2d_mid_blocks import PareUNetMidBlock2DCrossAttn\n",
    "\n",
    "from parediffusers import PareUNet2DConditionModel\n",
    "\n",
    "samples = []\n",
    "\n",
    "def forward(\n",
    "\tself,\n",
    "\tsample: torch.FloatTensor,\n",
    "\ttimestep: Union[torch.Tensor, float, int],\n",
    "\tencoder_hidden_states: torch.Tensor,\n",
    ") -> torch.FloatTensor:\n",
    "\tforward_upsample_size = False\n",
    "\tupsample_size = None\n",
    "\n",
    "\t# 1. time\n",
    "\ttimesteps = timestep\n",
    "\tif len(timesteps.shape) == 0:\n",
    "\t\ttimesteps = timesteps[None].to(sample.device)\n",
    "\n",
    "\t# broadcast to batch dimension in a way that's compatible with ONNX/Core ML\n",
    "\ttimesteps = timesteps.expand(sample.shape[0])\n",
    "\n",
    "\tt_emb = self.time_proj(timesteps)\n",
    "\tt_emb = t_emb.to(dtype=pipe.dtype)\n",
    "\n",
    "\temb = self.time_embedding(t_emb, None)\n",
    "\taug_emb = None\n",
    "\n",
    "\temb = emb + aug_emb if aug_emb is not None else emb\n",
    "\n",
    "\t# 2. pre-process\n",
    "\tsamples.append(('init', sample))\n",
    "\tsample = self.conv_in(sample)\n",
    "\tsamples.append(('conv_in', sample))\n",
    "\n",
    "\t# 3. down\n",
    "\tdown_block_res_samples = (sample,)\n",
    "\tfor i, downsample_block in enumerate(self.down_blocks):\n",
    "\t\tif hasattr(downsample_block, \"has_cross_attention\") and downsample_block.has_cross_attention:\n",
    "\t\t\t# For t2i-adapter CrossAttnDownBlock2D\n",
    "\t\t\tadditional_residuals = {}\n",
    "\t\t\tsample, res_samples = downsample_block(\n",
    "\t\t\t\thidden_states=sample,\n",
    "\t\t\t\ttemb=emb,\n",
    "\t\t\t\tencoder_hidden_states=encoder_hidden_states,\n",
    "\t\t\t\t**additional_residuals,\n",
    "\t\t\t)\n",
    "\t\telse:\n",
    "\t\t\tsample, res_samples = downsample_block(hidden_states=sample, temb=emb)\n",
    "\t\tdown_block_res_samples += res_samples\n",
    "\t\t\n",
    "\t\tsamples.append((f\"down_blocks_{i}\", sample))\n",
    "\n",
    "\t# 4. mid\n",
    "\tif self.mid_block is not None:\n",
    "\t\tif hasattr(self.mid_block, \"has_cross_attention\") and self.mid_block.has_cross_attention:\n",
    "\t\t\tsample = self.mid_block(\n",
    "\t\t\t\tsample,\n",
    "\t\t\t\temb,\n",
    "\t\t\t\tencoder_hidden_states=encoder_hidden_states,\n",
    "\t\t\t)\n",
    "\t\telse:\n",
    "\t\t\tsample = self.mid_block(sample, emb)\n",
    "\t\t\n",
    "\t\tsamples.append((f\"mid_block\", sample))\n",
    "\n",
    "\t# 5. up\n",
    "\tfor i, upsample_block in enumerate(self.up_blocks):\n",
    "\t\tis_final_block = i == len(self.up_blocks) - 1\n",
    "\n",
    "\t\tres_samples = down_block_res_samples[-len(upsample_block.resnets) :]\n",
    "\t\tdown_block_res_samples = down_block_res_samples[: -len(upsample_block.resnets)]\n",
    "\n",
    "\t\tif not is_final_block and forward_upsample_size:\n",
    "\t\t\tupsample_size = down_block_res_samples[-1].shape[2:]\n",
    "\n",
    "\t\tif hasattr(upsample_block, \"has_cross_attention\") and upsample_block.has_cross_attention:\n",
    "\t\t\tsample = upsample_block(\n",
    "\t\t\t\thidden_states=sample,\n",
    "\t\t\t\ttemb=emb,\n",
    "\t\t\t\tres_hidden_states_tuple=res_samples,\n",
    "\t\t\t\tencoder_hidden_states=encoder_hidden_states,\n",
    "\t\t\t\tupsample_size=upsample_size,\n",
    "\t\t\t)\n",
    "\t\telse:\n",
    "\t\t\tsample = upsample_block(\n",
    "\t\t\t\thidden_states=sample,\n",
    "\t\t\t\ttemb=emb,\n",
    "\t\t\t\tres_hidden_states_tuple=res_samples,\n",
    "\t\t\t\tupsample_size=upsample_size,\n",
    "\t\t\t)\n",
    "\t\t\n",
    "\t\tsamples.append((f\"up_blocks{i}\", sample))\n",
    "\n",
    "\t# 6. post-process\n",
    "\tif self.conv_norm_out:\n",
    "\t\tsample = self.conv_norm_out(sample)\n",
    "\t\tsample = self.conv_act(sample)\n",
    "\tsample = self.conv_out(sample)\n",
    "\tsamples.append(('conv_out', sample))\n",
    "\n",
    "\treturn sample\n",
    "\n",
    "PareUNet2DConditionModel.forward = forward\n",
    "\n",
    "pipe.unet = PareUNet2DConditionModel.from_pretrained(\n",
    "\t\"stabilityai/stable-diffusion-2\",\n",
    "\tdevice=pipe.device,\n",
    "\tdtype=pipe.dtype,\n",
    ").to(device=pipe.device, dtype=pipe.dtype)\n"
   ]
  },
  {
   "cell_type": "code",
   "execution_count": 5,
   "metadata": {},
   "outputs": [],
   "source": [
    "timesteps, num_inference_steps = pipe.retrieve_timesteps(50)\n",
    "prompt = \"painting depicting the sea, sunrise, ship, artstation, 4k, concept art\"\n",
    "prompt_embeds = pipe.encode_prompt(prompt).to(pipe.device)\n",
    "t = timesteps[-1].to(pipe.device)\n",
    "latents = pre_last_latent.to(pipe.device)\n",
    "\n",
    "latent_model_input = torch.cat([latents] * 2).to(pipe.device)\n",
    "\n",
    "# Predict the noise residual for the current timestep\n",
    "noise_residual = pipe.unet(latent_model_input, t, encoder_hidden_states=prompt_embeds)\n",
    "uncond_residual, text_cond_residual = noise_residual.chunk(2)\n",
    "guided_noise_residual = uncond_residual + 7.5 * (text_cond_residual - uncond_residual)\n",
    "\n",
    "# Update latents by reversing the diffusion process for the current timestep\n",
    "latents = pipe.scheduler.step(guided_noise_residual, t, latents)[0]"
   ]
  },
  {
   "cell_type": "code",
   "execution_count": 6,
   "metadata": {},
   "outputs": [
    {
     "data": {
      "text/plain": [
       "12"
      ]
     },
     "execution_count": 6,
     "metadata": {},
     "output_type": "execute_result"
    }
   ],
   "source": [
    "len(samples)"
   ]
  },
  {
   "cell_type": "code",
   "execution_count": 7,
   "metadata": {},
   "outputs": [
    {
     "name": "stdout",
     "output_type": "stream",
     "text": [
      "init             torch.Size([2, 4, 64, 64])\n",
      "conv_in          torch.Size([2, 320, 64, 64])\n",
      "down_blocks_0    torch.Size([2, 320, 32, 32])\n",
      "down_blocks_1    torch.Size([2, 640, 16, 16])\n",
      "down_blocks_2    torch.Size([2, 1280, 8, 8])\n",
      "down_blocks_3    torch.Size([2, 1280, 8, 8])\n",
      "mid_block        torch.Size([2, 1280, 8, 8])\n",
      "up_blocks0       torch.Size([2, 1280, 16, 16])\n",
      "up_blocks1       torch.Size([2, 1280, 32, 32])\n",
      "up_blocks2       torch.Size([2, 640, 64, 64])\n",
      "up_blocks3       torch.Size([2, 320, 64, 64])\n",
      "conv_out         torch.Size([2, 4, 64, 64])\n"
     ]
    }
   ],
   "source": [
    "for key, value in samples:\n",
    "\tprint(key.ljust(16), value.shape)"
   ]
  },
  {
   "cell_type": "code",
   "execution_count": null,
   "metadata": {},
   "outputs": [],
   "source": []
  }
 ],
 "metadata": {
  "kernelspec": {
   "display_name": "Python 3 (ipykernel)",
   "language": "python",
   "name": "python3"
  }
 },
 "nbformat": 4,
 "nbformat_minor": 2
}
