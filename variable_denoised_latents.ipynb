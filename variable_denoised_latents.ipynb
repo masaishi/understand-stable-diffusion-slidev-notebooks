{
 "cells": [
  {
   "cell_type": "code",
   "execution_count": 1,
   "metadata": {},
   "outputs": [],
   "source": [
    "%%capture\n",
    "\n",
    "!pip install transformers diffusers accelerate -U\n",
    "!pip install parediffusers"
   ]
  },
  {
   "cell_type": "code",
   "execution_count": null,
   "metadata": {},
   "outputs": [],
   "source": [
    "from PIL import Image\n",
    "from IPython.display import Image as IPythonImage\n",
    "import imageio\n",
    "from tqdm import tqdm\n",
    "import os\n",
    "import matplotlib.pyplot as plt\n",
    "import torch\n",
    "from diffusers.utils.export_utils import export_to_gif\n",
    "from parediffusers import PareDiffusionPipeline\n",
    "\n",
    "# Prepare for saving as .gif\n",
    "def make_gif_with_index(images, file_path, figsize=(1.28, 1.30)):\n",
    "\tfor i, image in enumerate(images):\n",
    "\t\tfig, ax = plt.subplots(figsize=figsize)\n",
    "\t\tax.imshow(image)\n",
    "\t\tax.text(0.5, -0.2, f\"Index: {i}\", transform=ax.transAxes, ha=\"center\")\n",
    "\t\tax.axis('off')\n",
    "\t\tplt.subplots_adjust(bottom=0.2)\n",
    "\t\tplt.savefig(f\"temp_{i}.png\")\n",
    "\t\tplt.close(fig)\n",
    "\n",
    "\t# Read temporary images and append to the list\n",
    "\timages_with_index = []\n",
    "\tfor i in range(len(images)):\n",
    "\t\timages_with_index.append(Image.open(f\"temp_{i}.png\"))\n",
    "\n",
    "\t# Save as .gif\n",
    "\texport_to_gif(images_with_index, file_path, fps=10)\n",
    "\n",
    "\t# Remove temporary image files\n",
    "\tfor i in range(len(images)):\n",
    "\t\tos.remove(f\"temp_{i}.png\")"
   ]
  },
  {
   "cell_type": "code",
   "execution_count": 4,
   "metadata": {},
   "outputs": [
    {
     "name": "stderr",
     "output_type": "stream",
     "text": [
      "100%|██████████| 100/100 [03:02<00:00,  1.83s/it]\n"
     ]
    },
    {
     "data": {
      "image/png": "[encoded data removed]",
      "text/plain": [
       "<PIL.Image.Image image mode=RGBA size=64x64>"
      ]
     },
     "metadata": {},
     "output_type": "display_data"
    }
   ],
   "source": [
    "denoised_latents = []\n",
    "\n",
    "@torch.no_grad()\n",
    "def denoise(self, latents, prompt_embeds, num_inference_steps=50, guidance_scale=7.5):\n",
    "\t\"\"\"\n",
    "\tIteratively denoise the latent space using the diffusion model to produce an image.\n",
    "\t\"\"\"\n",
    "\tglobal denoised_latents\n",
    "\n",
    "\ttimesteps, num_inference_steps = self.retrieve_timesteps(num_inference_steps)\n",
    "\n",
    "\tfor t in timesteps:\n",
    "\t\tlatent_model_input = torch.cat([latents] * 2)\n",
    "\t\t\n",
    "\t\t# Predict the noise residual for the current timestep\n",
    "\t\tnoise_residual = self.unet(latent_model_input, t, encoder_hidden_states=prompt_embeds)\n",
    "\t\tuncond_residual, text_cond_residual = noise_residual.chunk(2)\n",
    "\t\tguided_noise_residual = uncond_residual + guidance_scale * (text_cond_residual - uncond_residual)\n",
    "\n",
    "\t\t# Update latents by reversing the diffusion process for the current timestep\n",
    "\t\tlatents = self.scheduler.step(guided_noise_residual, t, latents)[0]\n",
    "\t\n",
    "\tdenoised_latents.append(latents)\n",
    "\n",
    "\treturn latents\n",
    "\n",
    "PareDiffusionPipeline.denoise = denoise\n",
    "\n",
    "pipe = PareDiffusionPipeline.from_pretrained(\n",
    "\t\"stabilityai/stable-diffusion-2\",\n",
    "\tdevice=torch.device(\"cuda\"),\n",
    "\tdtype=torch.float16,\n",
    ")\n",
    "prompt = \"painting depicting the sea, sunrise, ship, artstation, 4k, concept art\"\n",
    "\n",
    "for i in tqdm(range(100)):\n",
    "\ttorch.manual_seed(i)\n",
    "\timage = pipe(prompt, width=512, height=512, num_inference_steps=20)\n",
    "\n",
    "denoised_latents = [pipe.tensor_to_image(denoised_latent[0]) for denoised_latent in denoised_latents]\n",
    "blended_image = denoised_latents[0]\n",
    "\n",
    "blended_images = []\n",
    "blended_images.append(blended_image)\n",
    "\n",
    "# Blend the remaining images\n",
    "for i, img in enumerate(denoised_latents[1:]):\n",
    "\tblended_image = Image.blend(blended_image, img, alpha=0.5 / (i + 1))\n",
    "\tblended_images.append(blended_image)\n",
    "\n",
    "blended_image.save(\"blended_denoised_latents.png\")\n",
    "blended_image.show()\n",
    "\n",
    "make_gif_with_index(blended_images, \"blended_denoised_latents.gif\")\n"
   ]
  }
 ],
 "metadata": {
  "kernelspec": {
   "display_name": "Python 3 (ipykernel)",
   "language": "python",
   "name": "python3"
  },
  "language_info": {
   "codemirror_mode": {
    "name": "ipython",
    "version": 3
   },
   "file_extension": ".py",
   "mimetype": "text/x-python",
   "name": "python",
   "nbconvert_exporter": "python",
   "pygments_lexer": "ipython3",
   "version": "3.9.16"
  }
 },
 "nbformat": 4,
 "nbformat_minor": 2
}
